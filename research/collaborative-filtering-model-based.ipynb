{
 "cells": [
  {
   "cell_type": "markdown",
   "metadata": {},
   "source": [
    "# Model Based Collaborative Filtering Recommender\n",
    "\n",
    "The goal of the **recommender system** is to predict user preference for a set of items based on the past experience. Two the most popular approaches are Content-Based and Collaborative Filtering.\n",
    "\n",
    "**Collaborative filtering** is a technique used by websites like Amazon, YouTube, and Netflix. It filters out items that a user might like on the basis of reactions of similar users. There are two categories of collaborative filtering algorithms: memory based and model based.\n",
    "\n",
    "**Model based approach** involves building machine learning algorithms to predict user's ratings. They involve dimensionality reduction methods that reduce high dimensional matrix containing abundant number of missing values with a much smaller matrix in lower-dimensional space.\n",
    "\n",
    "The goal of this exercise is to compare SVD and NMF algorithms, try different configurations of parameters and explore obtained results."
   ]
  },
  {
   "cell_type": "code",
   "execution_count": 6,
   "metadata": {},
   "outputs": [],
   "source": [
    "import pandas as pd\n",
    "import numpy as np\n",
    "import seaborn as sns\n",
    "import matplotlib.pyplot as plt\n",
    "\n",
    "from surprise import Dataset, Reader\n",
    "from surprise import SVD, NMF\n",
    "from surprise.model_selection import cross_validate, train_test_split, GridSearchCV\n",
    "\n",
    "import functions as f\n",
    "import river"
   ]
  },
  {
   "cell_type": "markdown",
   "metadata": {},
   "source": [
    "This analysis will focus on book recommendations based on [Book-Crossing dataset](http://www2.informatik.uni-freiburg.de/~cziegler/BX/). To reduce the dimensionality of the dataset and avoid running into memory error it will focus on users with at least 3 ratings and top 10% most frequently rated books. It consists of 176,594 records.\n",
    "\n",
    "The recommender systems will be built using [surprise package](https://surprise.readthedocs.io/en/stable/getting_started.html) (Matrix Factorization - based models)."
   ]
  },
  {
   "cell_type": "code",
   "execution_count": 7,
   "metadata": {},
   "outputs": [],
   "source": [
    "df = pd.read_csv('data/ratings_top.csv')\n",
    "\n",
    "reader = Reader(rating_scale=(1, 10))\n",
    "data = Dataset.load_from_df(df[['user_id', 'isbn', 'book_rating']], reader)"
   ]
  },
  {
   "cell_type": "code",
   "execution_count": 8,
   "metadata": {},
   "outputs": [
    {
     "name": "stdout",
     "output_type": "stream",
     "text": [
      "Number of ratings: 176594\n",
      "Number of books: 16766\n",
      "Number of users: 20155\n"
     ]
    }
   ],
   "source": [
    "print('Number of ratings: %d\\nNumber of books: %d\\nNumber of users: %d' % (len(df), len(df['isbn'].unique()), len(df['user_id'].unique())))"
   ]
  },
  {
   "attachments": {},
   "cell_type": "markdown",
   "metadata": {},
   "source": [
    "## Using the River package"
   ]
  },
  {
   "cell_type": "code",
   "execution_count": 9,
   "metadata": {},
   "outputs": [],
   "source": [
    "from river import datasets, stream\n",
    "r_df = pd.read_csv('data/ratings_top.csv', header=0, names=['user', 'item', 'rating'])\n",
    "y = r_df.pop('rating')\n",
    "X_y = stream.iter_pandas(r_df, y)\n",
    "cache = stream.Cache()"
   ]
  },
  {
   "cell_type": "code",
   "execution_count": 10,
   "metadata": {},
   "outputs": [
    {
     "name": "stdout",
     "output_type": "stream",
     "text": [
      "MAE: 1.352354, RMSE: 1.710199\n",
      "['0446310786', '0449005615', '0804106304', '0345465083', '0553582747', '0671623249', '0140067477', '1841721522', '8445071777', '0345417623', '0060168013', '1853260053', '0452264464', '8445071769', '0671867156', '0399135782', '0609804618', '0380715899', '1558531025', '0060914068', '042518630X', '0394895894', '0679429220', '0340767936', '0374157065', '8445071408', '0679810307', '0195153448', '0060973129', '0393045218', '0425176428', '0671870432', '0679425608', '074322678X', '0771074670', '080652121X', '0887841740', '1552041778', '1558746218', '1567407781', '1575663937', '1881320189', '1879384493', '0061076031', '0439095026', '0689821166', '0684823802', '0425163091', '3404921038', '3442353866', '3442410665', '3442446937', '038078243X', '055321215X', '067176537X', '0812523873', '0156047624', '0245542957', '0553280333', '0961769947', '0964778319', '0679865691', '2070423204', '0345260317', '0394743741', '1853262404', '0312970242', '1414035004', '0451625889', '1569871213', '0966986105', '0743403843', '0060930365', '0060177586', '0071416331', '0375509038', '0553062042', '0316973742', '0312252617', '0002005018', '0375406328', '0441783589', '0375410538', '087113375X', '0553582909', '0060938412', '0316748641', '0316769487', '0440234743', '0061099686', '042511774X', '0671888587', '0842342702', '0345402871', '0440225701', '0440223571', '0375759778', '0312261594', '0425182908', '0971880107']\n"
     ]
    }
   ],
   "source": [
    "from river import optim, reco, metrics,preprocessing\n",
    "def readData():\n",
    "    r_df = pd.read_csv('data/ratings_top.csv', header=0, names=['user', 'item', 'rating'])\n",
    "    y = r_df.pop('rating')\n",
    "    return stream.iter_pandas(r_df, y)\n",
    "book_titles = pd.read_csv('data/books.csv', usecols=['isbn'])\n",
    "baseline_params = {\n",
    "    'optimizer': optim.SGD(0.025),\n",
    "    'l2': 0.,\n",
    "    'initializer': optim.initializers.Zeros()\n",
    "}\n",
    "\n",
    "model = preprocessing.PredClipper(\n",
    "    regressor=reco.Baseline(**baseline_params),\n",
    "    y_min=1,\n",
    "    y_max=10\n",
    ")\n",
    "\n",
    "model = reco.Baseline(optimizer=optim.SGD(0.005))\n",
    "metric = metrics.MAE() + metrics.RMSE()\n",
    "X_y = readData()\n",
    "for x, y in X_y:\n",
    "    y_pred = model.predict_one(**x)\n",
    "    \n",
    "    metric.update(y_pred=y_pred, y_true=y)\n",
    "    _ = model.learn_one(**x, y=y)\n",
    "    \n",
    "print(metric)\n",
    "print(model.rank(193458, book_titles.isbn.to_list()[:100]))\n"
   ]
  },
  {
   "cell_type": "code",
   "execution_count": 11,
   "metadata": {},
   "outputs": [
    {
     "name": "stdout",
     "output_type": "stream",
     "text": [
      "MAE: 1.277842, RMSE: 1.641593\n"
     ]
    }
   ],
   "source": [
    "biased_mf_params = {\n",
    "    'n_factors': 10,\n",
    "    'bias_optimizer': optim.SGD(0.025),\n",
    "    'latent_optimizer': optim.SGD(0.05),\n",
    "    'weight_initializer': optim.initializers.Zeros(),\n",
    "    'latent_initializer': optim.initializers.Normal(mu=0., sigma=0.1, seed=73),\n",
    "    'l2_bias': 0.,\n",
    "    'l2_latent': 0.\n",
    "}\n",
    "\n",
    "model = reco.BiasedMF(**biased_mf_params)\n",
    "\n",
    "metric = metrics.MAE() + metrics.RMSE()\n",
    "X_y = readData()\n",
    "for x, y in X_y:\n",
    "    y_pred = model.predict_one(user=x['user'], item=x['item'])\n",
    "    \n",
    "    metric.update(y_pred=y_pred, y_true=y)\n",
    "    _ = model.learn_one(**x, x=x, y=y)\n",
    "    \n",
    "print(metric)"
   ]
  },
  {
   "cell_type": "markdown",
   "metadata": {},
   "source": [
    "## SVD and NMF models comparison\n",
    "\n",
    "Singular Value Decomposition (SVD) and Non-negative Matrix Factorization (NMF) are matrix factorization techniques used for dimensionality reduction. Surprise package provides implementation of those algorithms.\n",
    "\n",
    "It's clear that for the given dataset much better results can be obtained with SVD approach - both in terms of accuracy and training / testing time."
   ]
  },
  {
   "cell_type": "code",
   "execution_count": 12,
   "metadata": {},
   "outputs": [
    {
     "data": {
      "text/plain": [
       "test_rmse    1.605498\n",
       "test_mae     1.242236\n",
       "fit_time     1.982254\n",
       "test_time    0.540564\n",
       "dtype: float64"
      ]
     },
     "execution_count": 12,
     "metadata": {},
     "output_type": "execute_result"
    }
   ],
   "source": [
    "model_svd = SVD()\n",
    "cv_results_svd = cross_validate(model_svd, data, cv=3)\n",
    "pd.DataFrame(cv_results_svd).mean()"
   ]
  },
  {
   "cell_type": "code",
   "execution_count": 13,
   "metadata": {},
   "outputs": [
    {
     "data": {
      "text/plain": [
       "test_rmse    2.625657\n",
       "test_mae     2.242587\n",
       "fit_time     4.788131\n",
       "test_time    0.451066\n",
       "dtype: float64"
      ]
     },
     "execution_count": 13,
     "metadata": {},
     "output_type": "execute_result"
    }
   ],
   "source": [
    "model_nmf = NMF()\n",
    "cv_results_nmf = cross_validate(model_nmf, data, cv=3)\n",
    "pd.DataFrame(cv_results_nmf).mean()"
   ]
  },
  {
   "cell_type": "markdown",
   "metadata": {},
   "source": [
    "## Optimisation of SVD algorithm\n",
    "\n",
    "Grid Search Cross Validation computes accuracy metrics for an algorithm on various combinations of parameters, over a cross-validation procedure. It's useful for finding the best configuration of parameters.\n",
    "\n",
    "It is used to find the best setting of parameters:\n",
    "* n_factors - the number of factors\n",
    "* n_epochs - the number of iteration of the SGD procedure\n",
    "* lr_all - the learning rate for all parameters\n",
    "* reg_all - the regularization term for all parameters\n",
    "\n",
    "As a result, regarding the majority of parameters, the default setting is the most optimal one. The improvement obtained with Grid Search is very small."
   ]
  },
  {
   "cell_type": "code",
   "execution_count": 14,
   "metadata": {},
   "outputs": [
    {
     "ename": "KeyboardInterrupt",
     "evalue": "",
     "output_type": "error",
     "traceback": [
      "\u001b[1;31m---------------------------------------------------------------------------\u001b[0m",
      "\u001b[1;31mKeyboardInterrupt\u001b[0m                         Traceback (most recent call last)",
      "\u001b[1;32md:\\Document\\8. HK222\\CapstoneProject\\collaborative-filtering-python\\collaborative-filtering-model-based.ipynb Cell 14\u001b[0m in \u001b[0;36m7\n\u001b[0;32m      <a href='vscode-notebook-cell:/d%3A/Document/8.%20HK222/CapstoneProject/collaborative-filtering-python/collaborative-filtering-model-based.ipynb#X16sZmlsZQ%3D%3D?line=0'>1</a>\u001b[0m param_grid \u001b[39m=\u001b[39m {\u001b[39m'\u001b[39m\u001b[39mn_factors\u001b[39m\u001b[39m'\u001b[39m: [\u001b[39m80\u001b[39m,\u001b[39m100\u001b[39m,\u001b[39m120\u001b[39m],\n\u001b[0;32m      <a href='vscode-notebook-cell:/d%3A/Document/8.%20HK222/CapstoneProject/collaborative-filtering-python/collaborative-filtering-model-based.ipynb#X16sZmlsZQ%3D%3D?line=1'>2</a>\u001b[0m               \u001b[39m'\u001b[39m\u001b[39mn_epochs\u001b[39m\u001b[39m'\u001b[39m: [\u001b[39m5\u001b[39m, \u001b[39m10\u001b[39m, \u001b[39m20\u001b[39m],\n\u001b[0;32m      <a href='vscode-notebook-cell:/d%3A/Document/8.%20HK222/CapstoneProject/collaborative-filtering-python/collaborative-filtering-model-based.ipynb#X16sZmlsZQ%3D%3D?line=2'>3</a>\u001b[0m               \u001b[39m'\u001b[39m\u001b[39mlr_all\u001b[39m\u001b[39m'\u001b[39m: [\u001b[39m0.002\u001b[39m, \u001b[39m0.005\u001b[39m],\n\u001b[0;32m      <a href='vscode-notebook-cell:/d%3A/Document/8.%20HK222/CapstoneProject/collaborative-filtering-python/collaborative-filtering-model-based.ipynb#X16sZmlsZQ%3D%3D?line=3'>4</a>\u001b[0m               \u001b[39m'\u001b[39m\u001b[39mreg_all\u001b[39m\u001b[39m'\u001b[39m: [\u001b[39m0.2\u001b[39m, \u001b[39m0.4\u001b[39m, \u001b[39m0.6\u001b[39m]}\n\u001b[0;32m      <a href='vscode-notebook-cell:/d%3A/Document/8.%20HK222/CapstoneProject/collaborative-filtering-python/collaborative-filtering-model-based.ipynb#X16sZmlsZQ%3D%3D?line=5'>6</a>\u001b[0m gs \u001b[39m=\u001b[39m GridSearchCV(SVD, param_grid, measures\u001b[39m=\u001b[39m[\u001b[39m'\u001b[39m\u001b[39mrmse\u001b[39m\u001b[39m'\u001b[39m, \u001b[39m'\u001b[39m\u001b[39mmae\u001b[39m\u001b[39m'\u001b[39m], cv\u001b[39m=\u001b[39m\u001b[39m3\u001b[39m)\n\u001b[1;32m----> <a href='vscode-notebook-cell:/d%3A/Document/8.%20HK222/CapstoneProject/collaborative-filtering-python/collaborative-filtering-model-based.ipynb#X16sZmlsZQ%3D%3D?line=6'>7</a>\u001b[0m gs\u001b[39m.\u001b[39;49mfit(data)\n\u001b[0;32m      <a href='vscode-notebook-cell:/d%3A/Document/8.%20HK222/CapstoneProject/collaborative-filtering-python/collaborative-filtering-model-based.ipynb#X16sZmlsZQ%3D%3D?line=8'>9</a>\u001b[0m \u001b[39mprint\u001b[39m(gs\u001b[39m.\u001b[39mbest_score[\u001b[39m'\u001b[39m\u001b[39mrmse\u001b[39m\u001b[39m'\u001b[39m])\n\u001b[0;32m     <a href='vscode-notebook-cell:/d%3A/Document/8.%20HK222/CapstoneProject/collaborative-filtering-python/collaborative-filtering-model-based.ipynb#X16sZmlsZQ%3D%3D?line=9'>10</a>\u001b[0m \u001b[39mprint\u001b[39m(gs\u001b[39m.\u001b[39mbest_params[\u001b[39m'\u001b[39m\u001b[39mrmse\u001b[39m\u001b[39m'\u001b[39m])\n",
      "File \u001b[1;32md:\\Miniforge\\envs\\tutorial\\lib\\site-packages\\surprise\\model_selection\\search.py:104\u001b[0m, in \u001b[0;36mBaseSearchCV.fit\u001b[1;34m(self, data)\u001b[0m\n\u001b[0;32m     90\u001b[0m cv \u001b[39m=\u001b[39m get_cv(\u001b[39mself\u001b[39m\u001b[39m.\u001b[39mcv)\n\u001b[0;32m     92\u001b[0m delayed_list \u001b[39m=\u001b[39m (\n\u001b[0;32m     93\u001b[0m     delayed(fit_and_score)(\n\u001b[0;32m     94\u001b[0m         \u001b[39mself\u001b[39m\u001b[39m.\u001b[39malgo_class(\u001b[39m*\u001b[39m\u001b[39m*\u001b[39mparams),\n\u001b[1;32m   (...)\u001b[0m\n\u001b[0;32m    102\u001b[0m     )\n\u001b[0;32m    103\u001b[0m )\n\u001b[1;32m--> 104\u001b[0m out \u001b[39m=\u001b[39m Parallel(\n\u001b[0;32m    105\u001b[0m     n_jobs\u001b[39m=\u001b[39;49m\u001b[39mself\u001b[39;49m\u001b[39m.\u001b[39;49mn_jobs,\n\u001b[0;32m    106\u001b[0m     pre_dispatch\u001b[39m=\u001b[39;49m\u001b[39mself\u001b[39;49m\u001b[39m.\u001b[39;49mpre_dispatch,\n\u001b[0;32m    107\u001b[0m     verbose\u001b[39m=\u001b[39;49m\u001b[39mself\u001b[39;49m\u001b[39m.\u001b[39;49mjoblib_verbose,\n\u001b[0;32m    108\u001b[0m )(delayed_list)\n\u001b[0;32m    110\u001b[0m (test_measures_dicts, train_measures_dicts, fit_times, test_times) \u001b[39m=\u001b[39m \u001b[39mzip\u001b[39m(\u001b[39m*\u001b[39mout)\n\u001b[0;32m    112\u001b[0m \u001b[39m# test_measures_dicts is a list of dict like this:\u001b[39;00m\n\u001b[0;32m    113\u001b[0m \u001b[39m# [{'mae': 1, 'rmse': 2}, {'mae': 2, 'rmse': 3} ...]\u001b[39;00m\n\u001b[0;32m    114\u001b[0m \u001b[39m# E.g. for 5 splits, the first 5 dicts are for the first param\u001b[39;00m\n\u001b[1;32m   (...)\u001b[0m\n\u001b[0;32m    121\u001b[0m \u001b[39m# (n_parameters_combinations, n_splits). This way we can easily compute\u001b[39;00m\n\u001b[0;32m    122\u001b[0m \u001b[39m# the mean and std dev over all splits or over all param comb.\u001b[39;00m\n",
      "File \u001b[1;32md:\\Miniforge\\envs\\tutorial\\lib\\site-packages\\joblib\\parallel.py:1088\u001b[0m, in \u001b[0;36mParallel.__call__\u001b[1;34m(self, iterable)\u001b[0m\n\u001b[0;32m   1085\u001b[0m \u001b[39mif\u001b[39;00m \u001b[39mself\u001b[39m\u001b[39m.\u001b[39mdispatch_one_batch(iterator):\n\u001b[0;32m   1086\u001b[0m     \u001b[39mself\u001b[39m\u001b[39m.\u001b[39m_iterating \u001b[39m=\u001b[39m \u001b[39mself\u001b[39m\u001b[39m.\u001b[39m_original_iterator \u001b[39mis\u001b[39;00m \u001b[39mnot\u001b[39;00m \u001b[39mNone\u001b[39;00m\n\u001b[1;32m-> 1088\u001b[0m \u001b[39mwhile\u001b[39;00m \u001b[39mself\u001b[39;49m\u001b[39m.\u001b[39;49mdispatch_one_batch(iterator):\n\u001b[0;32m   1089\u001b[0m     \u001b[39mpass\u001b[39;00m\n\u001b[0;32m   1091\u001b[0m \u001b[39mif\u001b[39;00m pre_dispatch \u001b[39m==\u001b[39m \u001b[39m\"\u001b[39m\u001b[39mall\u001b[39m\u001b[39m\"\u001b[39m \u001b[39mor\u001b[39;00m n_jobs \u001b[39m==\u001b[39m \u001b[39m1\u001b[39m:\n\u001b[0;32m   1092\u001b[0m     \u001b[39m# The iterable was consumed all at once by the above for loop.\u001b[39;00m\n\u001b[0;32m   1093\u001b[0m     \u001b[39m# No need to wait for async callbacks to trigger to\u001b[39;00m\n\u001b[0;32m   1094\u001b[0m     \u001b[39m# consumption.\u001b[39;00m\n",
      "File \u001b[1;32md:\\Miniforge\\envs\\tutorial\\lib\\site-packages\\joblib\\parallel.py:901\u001b[0m, in \u001b[0;36mParallel.dispatch_one_batch\u001b[1;34m(self, iterator)\u001b[0m\n\u001b[0;32m    899\u001b[0m     \u001b[39mreturn\u001b[39;00m \u001b[39mFalse\u001b[39;00m\n\u001b[0;32m    900\u001b[0m \u001b[39melse\u001b[39;00m:\n\u001b[1;32m--> 901\u001b[0m     \u001b[39mself\u001b[39;49m\u001b[39m.\u001b[39;49m_dispatch(tasks)\n\u001b[0;32m    902\u001b[0m     \u001b[39mreturn\u001b[39;00m \u001b[39mTrue\u001b[39;00m\n",
      "File \u001b[1;32md:\\Miniforge\\envs\\tutorial\\lib\\site-packages\\joblib\\parallel.py:819\u001b[0m, in \u001b[0;36mParallel._dispatch\u001b[1;34m(self, batch)\u001b[0m\n\u001b[0;32m    817\u001b[0m \u001b[39mwith\u001b[39;00m \u001b[39mself\u001b[39m\u001b[39m.\u001b[39m_lock:\n\u001b[0;32m    818\u001b[0m     job_idx \u001b[39m=\u001b[39m \u001b[39mlen\u001b[39m(\u001b[39mself\u001b[39m\u001b[39m.\u001b[39m_jobs)\n\u001b[1;32m--> 819\u001b[0m     job \u001b[39m=\u001b[39m \u001b[39mself\u001b[39;49m\u001b[39m.\u001b[39;49m_backend\u001b[39m.\u001b[39;49mapply_async(batch, callback\u001b[39m=\u001b[39;49mcb)\n\u001b[0;32m    820\u001b[0m     \u001b[39m# A job can complete so quickly than its callback is\u001b[39;00m\n\u001b[0;32m    821\u001b[0m     \u001b[39m# called before we get here, causing self._jobs to\u001b[39;00m\n\u001b[0;32m    822\u001b[0m     \u001b[39m# grow. To ensure correct results ordering, .insert is\u001b[39;00m\n\u001b[0;32m    823\u001b[0m     \u001b[39m# used (rather than .append) in the following line\u001b[39;00m\n\u001b[0;32m    824\u001b[0m     \u001b[39mself\u001b[39m\u001b[39m.\u001b[39m_jobs\u001b[39m.\u001b[39minsert(job_idx, job)\n",
      "File \u001b[1;32md:\\Miniforge\\envs\\tutorial\\lib\\site-packages\\joblib\\_parallel_backends.py:208\u001b[0m, in \u001b[0;36mSequentialBackend.apply_async\u001b[1;34m(self, func, callback)\u001b[0m\n\u001b[0;32m    206\u001b[0m \u001b[39mdef\u001b[39;00m \u001b[39mapply_async\u001b[39m(\u001b[39mself\u001b[39m, func, callback\u001b[39m=\u001b[39m\u001b[39mNone\u001b[39;00m):\n\u001b[0;32m    207\u001b[0m     \u001b[39m\"\"\"Schedule a func to be run\"\"\"\u001b[39;00m\n\u001b[1;32m--> 208\u001b[0m     result \u001b[39m=\u001b[39m ImmediateResult(func)\n\u001b[0;32m    209\u001b[0m     \u001b[39mif\u001b[39;00m callback:\n\u001b[0;32m    210\u001b[0m         callback(result)\n",
      "File \u001b[1;32md:\\Miniforge\\envs\\tutorial\\lib\\site-packages\\joblib\\_parallel_backends.py:597\u001b[0m, in \u001b[0;36mImmediateResult.__init__\u001b[1;34m(self, batch)\u001b[0m\n\u001b[0;32m    594\u001b[0m \u001b[39mdef\u001b[39;00m \u001b[39m__init__\u001b[39m(\u001b[39mself\u001b[39m, batch):\n\u001b[0;32m    595\u001b[0m     \u001b[39m# Don't delay the application, to avoid keeping the input\u001b[39;00m\n\u001b[0;32m    596\u001b[0m     \u001b[39m# arguments in memory\u001b[39;00m\n\u001b[1;32m--> 597\u001b[0m     \u001b[39mself\u001b[39m\u001b[39m.\u001b[39mresults \u001b[39m=\u001b[39m batch()\n",
      "File \u001b[1;32md:\\Miniforge\\envs\\tutorial\\lib\\site-packages\\joblib\\parallel.py:288\u001b[0m, in \u001b[0;36mBatchedCalls.__call__\u001b[1;34m(self)\u001b[0m\n\u001b[0;32m    284\u001b[0m \u001b[39mdef\u001b[39;00m \u001b[39m__call__\u001b[39m(\u001b[39mself\u001b[39m):\n\u001b[0;32m    285\u001b[0m     \u001b[39m# Set the default nested backend to self._backend but do not set the\u001b[39;00m\n\u001b[0;32m    286\u001b[0m     \u001b[39m# change the default number of processes to -1\u001b[39;00m\n\u001b[0;32m    287\u001b[0m     \u001b[39mwith\u001b[39;00m parallel_backend(\u001b[39mself\u001b[39m\u001b[39m.\u001b[39m_backend, n_jobs\u001b[39m=\u001b[39m\u001b[39mself\u001b[39m\u001b[39m.\u001b[39m_n_jobs):\n\u001b[1;32m--> 288\u001b[0m         \u001b[39mreturn\u001b[39;00m [func(\u001b[39m*\u001b[39margs, \u001b[39m*\u001b[39m\u001b[39m*\u001b[39mkwargs)\n\u001b[0;32m    289\u001b[0m                 \u001b[39mfor\u001b[39;00m func, args, kwargs \u001b[39min\u001b[39;00m \u001b[39mself\u001b[39m\u001b[39m.\u001b[39mitems]\n",
      "File \u001b[1;32md:\\Miniforge\\envs\\tutorial\\lib\\site-packages\\joblib\\parallel.py:288\u001b[0m, in \u001b[0;36m<listcomp>\u001b[1;34m(.0)\u001b[0m\n\u001b[0;32m    284\u001b[0m \u001b[39mdef\u001b[39;00m \u001b[39m__call__\u001b[39m(\u001b[39mself\u001b[39m):\n\u001b[0;32m    285\u001b[0m     \u001b[39m# Set the default nested backend to self._backend but do not set the\u001b[39;00m\n\u001b[0;32m    286\u001b[0m     \u001b[39m# change the default number of processes to -1\u001b[39;00m\n\u001b[0;32m    287\u001b[0m     \u001b[39mwith\u001b[39;00m parallel_backend(\u001b[39mself\u001b[39m\u001b[39m.\u001b[39m_backend, n_jobs\u001b[39m=\u001b[39m\u001b[39mself\u001b[39m\u001b[39m.\u001b[39m_n_jobs):\n\u001b[1;32m--> 288\u001b[0m         \u001b[39mreturn\u001b[39;00m [func(\u001b[39m*\u001b[39margs, \u001b[39m*\u001b[39m\u001b[39m*\u001b[39mkwargs)\n\u001b[0;32m    289\u001b[0m                 \u001b[39mfor\u001b[39;00m func, args, kwargs \u001b[39min\u001b[39;00m \u001b[39mself\u001b[39m\u001b[39m.\u001b[39mitems]\n",
      "File \u001b[1;32md:\\Miniforge\\envs\\tutorial\\lib\\site-packages\\surprise\\model_selection\\validation.py:173\u001b[0m, in \u001b[0;36mfit_and_score\u001b[1;34m(algo, trainset, testset, measures, return_train_measures)\u001b[0m\n\u001b[0;32m    142\u001b[0m \u001b[39m\"\"\"Helper method that trains an algorithm and compute accuracy measures on\u001b[39;00m\n\u001b[0;32m    143\u001b[0m \u001b[39ma testset. Also report train and test times.\u001b[39;00m\n\u001b[0;32m    144\u001b[0m \n\u001b[1;32m   (...)\u001b[0m\n\u001b[0;32m    169\u001b[0m \u001b[39m        - The testing time in seconds.\u001b[39;00m\n\u001b[0;32m    170\u001b[0m \u001b[39m\"\"\"\u001b[39;00m\n\u001b[0;32m    172\u001b[0m start_fit \u001b[39m=\u001b[39m time\u001b[39m.\u001b[39mtime()\n\u001b[1;32m--> 173\u001b[0m algo\u001b[39m.\u001b[39;49mfit(trainset)\n\u001b[0;32m    174\u001b[0m fit_time \u001b[39m=\u001b[39m time\u001b[39m.\u001b[39mtime() \u001b[39m-\u001b[39m start_fit\n\u001b[0;32m    175\u001b[0m start_test \u001b[39m=\u001b[39m time\u001b[39m.\u001b[39mtime()\n",
      "File \u001b[1;32md:\\Miniforge\\envs\\tutorial\\lib\\site-packages\\surprise\\prediction_algorithms\\matrix_factorization.pyx:155\u001b[0m, in \u001b[0;36msurprise.prediction_algorithms.matrix_factorization.SVD.fit\u001b[1;34m()\u001b[0m\n",
      "File \u001b[1;32md:\\Miniforge\\envs\\tutorial\\lib\\site-packages\\surprise\\prediction_algorithms\\matrix_factorization.pyx:228\u001b[0m, in \u001b[0;36msurprise.prediction_algorithms.matrix_factorization.SVD.sgd\u001b[1;34m()\u001b[0m\n",
      "File \u001b[1;32md:\\Miniforge\\envs\\tutorial\\lib\\site-packages\\surprise\\trainset.py:194\u001b[0m, in \u001b[0;36mTrainset.all_ratings\u001b[1;34m(self)\u001b[0m\n\u001b[0;32m    192\u001b[0m \u001b[39mfor\u001b[39;00m u, u_ratings \u001b[39min\u001b[39;00m \u001b[39mself\u001b[39m\u001b[39m.\u001b[39mur\u001b[39m.\u001b[39mitems():\n\u001b[0;32m    193\u001b[0m     \u001b[39mfor\u001b[39;00m i, r \u001b[39min\u001b[39;00m u_ratings:\n\u001b[1;32m--> 194\u001b[0m         \u001b[39myield\u001b[39;00m u, i, r\n",
      "\u001b[1;31mKeyboardInterrupt\u001b[0m: "
     ]
    }
   ],
   "source": [
    "param_grid = {'n_factors': [80,100,120],\n",
    "              'n_epochs': [5, 10, 20],\n",
    "              'lr_all': [0.002, 0.005],\n",
    "              'reg_all': [0.2, 0.4, 0.6]}\n",
    "\n",
    "gs = GridSearchCV(SVD, param_grid, measures=['rmse', 'mae'], cv=3)\n",
    "gs.fit(data)\n",
    "\n",
    "print(gs.best_score['rmse'])\n",
    "print(gs.best_params['rmse'])\n",
    "\n",
    "#1.5981785240945765\n",
    "#{'n_factors': 80, 'n_epochs': 20, 'lr_all': 0.005, 'reg_all': 0.2}"
   ]
  },
  {
   "cell_type": "markdown",
   "metadata": {},
   "source": [
    "## Analysis of Collaborative Filtering model results\n",
    "\n",
    "In this part, let's examine in detail the results obtained by the SVD model that provided the best RMSE score."
   ]
  },
  {
   "cell_type": "code",
   "execution_count": 15,
   "metadata": {},
   "outputs": [],
   "source": [
    "trainset, testset = train_test_split(data, test_size=0.2)\n",
    "\n",
    "model = SVD(n_factors=80, n_epochs=20, lr_all=0.005, reg_all=0.2)\n",
    "model.fit(trainset)\n",
    "predictions = model.test(testset)"
   ]
  },
  {
   "cell_type": "code",
   "execution_count": 23,
   "metadata": {},
   "outputs": [
    {
     "data": {
      "text/html": [
       "<div>\n",
       "<style scoped>\n",
       "    .dataframe tbody tr th:only-of-type {\n",
       "        vertical-align: middle;\n",
       "    }\n",
       "\n",
       "    .dataframe tbody tr th {\n",
       "        vertical-align: top;\n",
       "    }\n",
       "\n",
       "    .dataframe thead th {\n",
       "        text-align: right;\n",
       "    }\n",
       "</style>\n",
       "<table border=\"1\" class=\"dataframe\">\n",
       "  <thead>\n",
       "    <tr style=\"text-align: right;\">\n",
       "      <th></th>\n",
       "      <th>user_id</th>\n",
       "      <th>isbn</th>\n",
       "      <th>actual_rating</th>\n",
       "      <th>pred_rating</th>\n",
       "      <th>details</th>\n",
       "      <th>impossible</th>\n",
       "      <th>pred_rating_round</th>\n",
       "      <th>abs_err</th>\n",
       "    </tr>\n",
       "  </thead>\n",
       "  <tbody>\n",
       "    <tr>\n",
       "      <th>34513</th>\n",
       "      <td>28820</td>\n",
       "      <td>0671467263</td>\n",
       "      <td>8.0</td>\n",
       "      <td>7.357391</td>\n",
       "      <td>{'was_impossible': False}</td>\n",
       "      <td>False</td>\n",
       "      <td>7.0</td>\n",
       "      <td>0.642609</td>\n",
       "    </tr>\n",
       "    <tr>\n",
       "      <th>24916</th>\n",
       "      <td>156243</td>\n",
       "      <td>8838910987</td>\n",
       "      <td>8.0</td>\n",
       "      <td>7.792367</td>\n",
       "      <td>{'was_impossible': False}</td>\n",
       "      <td>False</td>\n",
       "      <td>8.0</td>\n",
       "      <td>0.207633</td>\n",
       "    </tr>\n",
       "    <tr>\n",
       "      <th>13861</th>\n",
       "      <td>159868</td>\n",
       "      <td>0061092568</td>\n",
       "      <td>8.0</td>\n",
       "      <td>8.365186</td>\n",
       "      <td>{'was_impossible': False}</td>\n",
       "      <td>False</td>\n",
       "      <td>8.0</td>\n",
       "      <td>0.365186</td>\n",
       "    </tr>\n",
       "    <tr>\n",
       "      <th>20095</th>\n",
       "      <td>217121</td>\n",
       "      <td>0552128481</td>\n",
       "      <td>5.0</td>\n",
       "      <td>6.758962</td>\n",
       "      <td>{'was_impossible': False}</td>\n",
       "      <td>False</td>\n",
       "      <td>7.0</td>\n",
       "      <td>1.758962</td>\n",
       "    </tr>\n",
       "    <tr>\n",
       "      <th>9717</th>\n",
       "      <td>102129</td>\n",
       "      <td>0316785644</td>\n",
       "      <td>6.0</td>\n",
       "      <td>7.988546</td>\n",
       "      <td>{'was_impossible': False}</td>\n",
       "      <td>False</td>\n",
       "      <td>8.0</td>\n",
       "      <td>1.988546</td>\n",
       "    </tr>\n",
       "  </tbody>\n",
       "</table>\n",
       "</div>"
      ],
      "text/plain": [
       "       user_id        isbn  actual_rating  pred_rating  \\\n",
       "34513    28820  0671467263            8.0     7.357391   \n",
       "24916   156243  8838910987            8.0     7.792367   \n",
       "13861   159868  0061092568            8.0     8.365186   \n",
       "20095   217121  0552128481            5.0     6.758962   \n",
       "9717    102129  0316785644            6.0     7.988546   \n",
       "\n",
       "                         details  impossible  pred_rating_round   abs_err  \n",
       "34513  {'was_impossible': False}       False                7.0  0.642609  \n",
       "24916  {'was_impossible': False}       False                8.0  0.207633  \n",
       "13861  {'was_impossible': False}       False                8.0  0.365186  \n",
       "20095  {'was_impossible': False}       False                7.0  1.758962  \n",
       "9717   {'was_impossible': False}       False                8.0  1.988546  "
      ]
     },
     "execution_count": 23,
     "metadata": {},
     "output_type": "execute_result"
    }
   ],
   "source": [
    "df_pred = pd.DataFrame(predictions, columns=['user_id', 'isbn', 'actual_rating', 'pred_rating', 'details'])\n",
    "\n",
    "df_pred['impossible'] = df_pred['details'].apply(lambda x: x['was_impossible'])\n",
    "df_pred['pred_rating_round'] = df_pred['pred_rating'].round()\n",
    "df_pred['abs_err'] = abs(df_pred['pred_rating'] - df_pred['actual_rating'])\n",
    "df_pred.drop(['details'], axis=1, inplace=True)\n",
    "\n",
    "df_pred.sample(5)"
   ]
  },
  {
   "cell_type": "markdown",
   "metadata": {},
   "source": [
    "### Distribution of actual and predicted ratings in the test set\n",
    "\n",
    "According to the distribution of actual ratings of books in the test set, the biggest part of users give positive scores - between 7 and 10. The mode equals 8 but count of ratings 7, 9, 10 is also noticeable. The distribution of predicted ratings in the test set is visibly different. One more time, 8 is a mode but scores 7, 9 and 10 are clearly less frequent.\n",
    "\n",
    "It shows that the recommender system is not perfect and it cannot reflect the real distribution of book ratings."
   ]
  },
  {
   "cell_type": "code",
   "execution_count": 17,
   "metadata": {},
   "outputs": [
    {
     "data": {
      "image/png": "[encoded data removed]",
      "text/plain": [
       "<Figure size 1400x400 with 2 Axes>"
      ]
     },
     "metadata": {},
     "output_type": "display_data"
    }
   ],
   "source": [
    "palette = sns.color_palette(\"RdBu\", 10)\n",
    "fig, (ax1, ax2) = plt.subplots(nrows=1, ncols=2, figsize=(14, 4))\n",
    "\n",
    "sns.countplot(x='actual_rating', data=df_pred, palette=palette, ax=ax1)\n",
    "ax1.set_title('Distribution of actual ratings of books in the test set')\n",
    "\n",
    "sns.countplot(x='pred_rating_round', data=df_pred, palette=palette, ax=ax2)\n",
    "ax2.set_title('Distribution of predicted ratings of books in the test set')\n",
    "\n",
    "plt.show()"
   ]
  },
  {
   "cell_type": "markdown",
   "metadata": {},
   "source": [
    "### Absolute error of predicted ratings\n",
    "\n",
    "The distribution of absolute errors is right-skewed, showing that the majority of errors is small: between 0 and 1. There is a long tail that indicates that there are several observations for which the absolute error was close to 10.\n",
    "\n",
    "How good/bad the model is with predicting certain scores? As expected from the above charts, the model deals very well with predicting score = 8 (the most frequent value). The further the rating from score = 8, the higher the absolute error. The biggest errors happen to observations with scores 1 or 2 which indicates that probably the model is predicting high ratings for those observations."
   ]
  },
  {
   "cell_type": "code",
   "execution_count": 18,
   "metadata": {},
   "outputs": [
    {
     "name": "stderr",
     "output_type": "stream",
     "text": [
      "C:\\Users\\DELL\\AppData\\Local\\Temp\\ipykernel_8616\\3785201354.py:5: UserWarning: \n",
      "\n",
      "`distplot` is a deprecated function and will be removed in seaborn v0.14.0.\n",
      "\n",
      "Please adapt your code to use either `displot` (a figure-level function with\n",
      "similar flexibility) or `histplot` (an axes-level function for histograms).\n",
      "\n",
      "For a guide to updating your code to use the new functions, please see\n",
      "https://gist.github.com/mwaskom/de44147ed2974457ad6372750bbe5751\n",
      "\n",
      "  sns.distplot(df_pred['abs_err'], color='#2f6194', ax=ax1)\n"
     ]
    },
    {
     "data": {
      "image/png": "[encoded data removed]",
      "text/plain": [
       "<Figure size 1400x400 with 2 Axes>"
      ]
     },
     "metadata": {},
     "output_type": "display_data"
    }
   ],
   "source": [
    "df_pred_err = df_pred.groupby('actual_rating')['abs_err'].mean().reset_index()\n",
    "\n",
    "fig, (ax1, ax2) = plt.subplots(nrows=1, ncols=2, figsize=(14, 4))\n",
    "\n",
    "sns.distplot(df_pred['abs_err'], color='#2f6194', ax=ax1)\n",
    "ax1.set_title('Distribution of absolute error in test set')\n",
    "\n",
    "sns.barplot(x='actual_rating', y='abs_err', data=df_pred_err, palette=palette, ax=ax2)\n",
    "ax2.set_title('Mean absolute error for rating in test set')\n",
    "\n",
    "plt.show()"
   ]
  },
  {
   "cell_type": "markdown",
   "metadata": {},
   "source": [
    "### Analysis of predicted ratings of a particular user\n",
    "\n",
    "For this part of the analysis, the user with id 193458 was selected. By analyzing book ratings by this user, it can be noted that he/she likes diverse types of readings: English romantic novels (Pride and Prejudice, Sense and Sensibility), fantasy (Narnia) as well as historical novels (Schindler's List). Among the recommended books there are other works from Narnia's series, two historical novels and one romance which correlates with user's previous preferences."
   ]
  },
  {
   "cell_type": "code",
   "execution_count": 19,
   "metadata": {},
   "outputs": [],
   "source": [
    "df_books = pd.read_csv('data/books.csv')\n",
    "\n",
    "df_ext = df.merge(df_books[['isbn', 'book_title']], on='isbn', how='left')\n",
    "df_ext['book_title_short'] = df_ext['book_title'].apply(f.short_title)\n",
    "df_ext = df_ext.merge(df_pred[['isbn', 'user_id', 'pred_rating']], on=['isbn', 'user_id'], how='left')"
   ]
  },
  {
   "cell_type": "code",
   "execution_count": 20,
   "metadata": {},
   "outputs": [
    {
     "data": {
      "text/html": [
       "<div>\n",
       "<style scoped>\n",
       "    .dataframe tbody tr th:only-of-type {\n",
       "        vertical-align: middle;\n",
       "    }\n",
       "\n",
       "    .dataframe tbody tr th {\n",
       "        vertical-align: top;\n",
       "    }\n",
       "\n",
       "    .dataframe thead th {\n",
       "        text-align: right;\n",
       "    }\n",
       "</style>\n",
       "<table border=\"1\" class=\"dataframe\">\n",
       "  <thead>\n",
       "    <tr style=\"text-align: right;\">\n",
       "      <th></th>\n",
       "      <th>user_id</th>\n",
       "      <th>isbn</th>\n",
       "      <th>book_rating</th>\n",
       "      <th>book_title</th>\n",
       "      <th>book_title_short</th>\n",
       "      <th>pred_rating</th>\n",
       "    </tr>\n",
       "  </thead>\n",
       "  <tbody>\n",
       "    <tr>\n",
       "      <th>124951</th>\n",
       "      <td>193458</td>\n",
       "      <td>0679429220</td>\n",
       "      <td>9</td>\n",
       "      <td>Midnight in the Garden of Good and Evil: A Sav...</td>\n",
       "      <td>Midnight in the Garden of Good and Evil:</td>\n",
       "      <td>NaN</td>\n",
       "    </tr>\n",
       "    <tr>\n",
       "      <th>124961</th>\n",
       "      <td>193458</td>\n",
       "      <td>1853260002</td>\n",
       "      <td>10</td>\n",
       "      <td>Pride &amp;amp; Prejudice (Wordsworth Classics)</td>\n",
       "      <td>Pride &amp;amp; Prejudice (Wordsworth Classics)</td>\n",
       "      <td>NaN</td>\n",
       "    </tr>\n",
       "    <tr>\n",
       "      <th>124950</th>\n",
       "      <td>193458</td>\n",
       "      <td>0671880314</td>\n",
       "      <td>9</td>\n",
       "      <td>Schindler's List</td>\n",
       "      <td>Schindler's List</td>\n",
       "      <td>NaN</td>\n",
       "    </tr>\n",
       "    <tr>\n",
       "      <th>124924</th>\n",
       "      <td>193458</td>\n",
       "      <td>0345342569</td>\n",
       "      <td>9</td>\n",
       "      <td>Shoeless Joe</td>\n",
       "      <td>Shoeless Joe</td>\n",
       "      <td>NaN</td>\n",
       "    </tr>\n",
       "    <tr>\n",
       "      <th>124906</th>\n",
       "      <td>193458</td>\n",
       "      <td>0064471055</td>\n",
       "      <td>9</td>\n",
       "      <td>Prince Caspian (rack) : The Return to Narnia (...</td>\n",
       "      <td>Prince Caspian (rack) : The Return to Narnia</td>\n",
       "      <td>NaN</td>\n",
       "    </tr>\n",
       "    <tr>\n",
       "      <th>124923</th>\n",
       "      <td>193458</td>\n",
       "      <td>0330352695</td>\n",
       "      <td>9</td>\n",
       "      <td>Four Letters of Love</td>\n",
       "      <td>Four Letters of Love</td>\n",
       "      <td>NaN</td>\n",
       "    </tr>\n",
       "    <tr>\n",
       "      <th>124954</th>\n",
       "      <td>193458</td>\n",
       "      <td>0789404257</td>\n",
       "      <td>9</td>\n",
       "      <td>Eyewitness Travel Guide to Italy (revised)</td>\n",
       "      <td>Eyewitness Travel Guide to Italy (revised)</td>\n",
       "      <td>NaN</td>\n",
       "    </tr>\n",
       "    <tr>\n",
       "      <th>124912</th>\n",
       "      <td>193458</td>\n",
       "      <td>014011369X</td>\n",
       "      <td>9</td>\n",
       "      <td>And the Band Played on: Politics, People, and ...</td>\n",
       "      <td>And the Band Played on: Politics, People,</td>\n",
       "      <td>NaN</td>\n",
       "    </tr>\n",
       "    <tr>\n",
       "      <th>124913</th>\n",
       "      <td>193458</td>\n",
       "      <td>0140298479</td>\n",
       "      <td>9</td>\n",
       "      <td>Bridget Jones: The Edge of Reason</td>\n",
       "      <td>Bridget Jones: The Edge of Reason</td>\n",
       "      <td>NaN</td>\n",
       "    </tr>\n",
       "    <tr>\n",
       "      <th>124918</th>\n",
       "      <td>193458</td>\n",
       "      <td>0142001740</td>\n",
       "      <td>9</td>\n",
       "      <td>The Secret Life of Bees</td>\n",
       "      <td>The Secret Life of Bees</td>\n",
       "      <td>NaN</td>\n",
       "    </tr>\n",
       "  </tbody>\n",
       "</table>\n",
       "</div>"
      ],
      "text/plain": [
       "        user_id        isbn  book_rating  \\\n",
       "124951   193458  0679429220            9   \n",
       "124961   193458  1853260002           10   \n",
       "124950   193458  0671880314            9   \n",
       "124924   193458  0345342569            9   \n",
       "124906   193458  0064471055            9   \n",
       "124923   193458  0330352695            9   \n",
       "124954   193458  0789404257            9   \n",
       "124912   193458  014011369X            9   \n",
       "124913   193458  0140298479            9   \n",
       "124918   193458  0142001740            9   \n",
       "\n",
       "                                               book_title  \\\n",
       "124951  Midnight in the Garden of Good and Evil: A Sav...   \n",
       "124961        Pride &amp; Prejudice (Wordsworth Classics)   \n",
       "124950                                   Schindler's List   \n",
       "124924                                       Shoeless Joe   \n",
       "124906  Prince Caspian (rack) : The Return to Narnia (...   \n",
       "124923                               Four Letters of Love   \n",
       "124954         Eyewitness Travel Guide to Italy (revised)   \n",
       "124912  And the Band Played on: Politics, People, and ...   \n",
       "124913                  Bridget Jones: The Edge of Reason   \n",
       "124918                            The Secret Life of Bees   \n",
       "\n",
       "                                    book_title_short  pred_rating  \n",
       "124951      Midnight in the Garden of Good and Evil:          NaN  \n",
       "124961   Pride &amp; Prejudice (Wordsworth Classics)          NaN  \n",
       "124950                              Schindler's List          NaN  \n",
       "124924                                  Shoeless Joe          NaN  \n",
       "124906  Prince Caspian (rack) : The Return to Narnia          NaN  \n",
       "124923                          Four Letters of Love          NaN  \n",
       "124954    Eyewitness Travel Guide to Italy (revised)          NaN  \n",
       "124912     And the Band Played on: Politics, People,          NaN  \n",
       "124913             Bridget Jones: The Edge of Reason          NaN  \n",
       "124918                       The Secret Life of Bees          NaN  "
      ]
     },
     "execution_count": 20,
     "metadata": {},
     "output_type": "execute_result"
    }
   ],
   "source": [
    "selected_user_id = 193458\n",
    "df_user = df_ext[df_ext['user_id']==selected_user_id]\n",
    "\n",
    "df_user[(df_user['pred_rating'].isna())&(df_user['book_rating']>=9)].sample(10)"
   ]
  },
  {
   "cell_type": "markdown",
   "metadata": {},
   "source": [
    "### Train set: Top rated books\n",
    "\n",
    "![](img/train_actual.jpg)"
   ]
  },
  {
   "cell_type": "code",
   "execution_count": 21,
   "metadata": {},
   "outputs": [
    {
     "data": {
      "text/html": [
       "<div>\n",
       "<style scoped>\n",
       "    .dataframe tbody tr th:only-of-type {\n",
       "        vertical-align: middle;\n",
       "    }\n",
       "\n",
       "    .dataframe tbody tr th {\n",
       "        vertical-align: top;\n",
       "    }\n",
       "\n",
       "    .dataframe thead th {\n",
       "        text-align: right;\n",
       "    }\n",
       "</style>\n",
       "<table border=\"1\" class=\"dataframe\">\n",
       "  <thead>\n",
       "    <tr style=\"text-align: right;\">\n",
       "      <th></th>\n",
       "      <th>user_id</th>\n",
       "      <th>isbn</th>\n",
       "      <th>book_rating</th>\n",
       "      <th>book_title</th>\n",
       "      <th>book_title_short</th>\n",
       "      <th>pred_rating</th>\n",
       "    </tr>\n",
       "  </thead>\n",
       "  <tbody>\n",
       "    <tr>\n",
       "      <th>124905</th>\n",
       "      <td>193458</td>\n",
       "      <td>0064471047</td>\n",
       "      <td>9</td>\n",
       "      <td>The Lion, the Witch, and the Wardrobe (The Chr...</td>\n",
       "      <td>The Lion, the Witch, and the Wardrobe (The</td>\n",
       "      <td>8.484346</td>\n",
       "    </tr>\n",
       "    <tr>\n",
       "      <th>124925</th>\n",
       "      <td>193458</td>\n",
       "      <td>0345361792</td>\n",
       "      <td>10</td>\n",
       "      <td>A Prayer for Owen Meany</td>\n",
       "      <td>A Prayer for Owen Meany</td>\n",
       "      <td>8.417446</td>\n",
       "    </tr>\n",
       "    <tr>\n",
       "      <th>124911</th>\n",
       "      <td>193458</td>\n",
       "      <td>0064471101</td>\n",
       "      <td>9</td>\n",
       "      <td>The Magician's Nephew (rack) (Narnia)</td>\n",
       "      <td>The Magician's Nephew (rack) (Narnia)</td>\n",
       "      <td>8.399889</td>\n",
       "    </tr>\n",
       "    <tr>\n",
       "      <th>124914</th>\n",
       "      <td>193458</td>\n",
       "      <td>0140620125</td>\n",
       "      <td>9</td>\n",
       "      <td>Wuthering Heights (Penguin Popular Classics)</td>\n",
       "      <td>Wuthering Heights (Penguin Popular Classics)</td>\n",
       "      <td>8.324708</td>\n",
       "    </tr>\n",
       "    <tr>\n",
       "      <th>124942</th>\n",
       "      <td>193458</td>\n",
       "      <td>0451169530</td>\n",
       "      <td>8</td>\n",
       "      <td>The Stand: Complete and Uncut</td>\n",
       "      <td>The Stand: Complete and Uncut</td>\n",
       "      <td>8.248568</td>\n",
       "    </tr>\n",
       "  </tbody>\n",
       "</table>\n",
       "</div>"
      ],
      "text/plain": [
       "        user_id        isbn  book_rating  \\\n",
       "124905   193458  0064471047            9   \n",
       "124925   193458  0345361792           10   \n",
       "124911   193458  0064471101            9   \n",
       "124914   193458  0140620125            9   \n",
       "124942   193458  0451169530            8   \n",
       "\n",
       "                                               book_title  \\\n",
       "124905  The Lion, the Witch, and the Wardrobe (The Chr...   \n",
       "124925                            A Prayer for Owen Meany   \n",
       "124911              The Magician's Nephew (rack) (Narnia)   \n",
       "124914       Wuthering Heights (Penguin Popular Classics)   \n",
       "124942                      The Stand: Complete and Uncut   \n",
       "\n",
       "                                    book_title_short  pred_rating  \n",
       "124905    The Lion, the Witch, and the Wardrobe (The     8.484346  \n",
       "124925                       A Prayer for Owen Meany     8.417446  \n",
       "124911         The Magician's Nephew (rack) (Narnia)     8.399889  \n",
       "124914  Wuthering Heights (Penguin Popular Classics)     8.324708  \n",
       "124942                 The Stand: Complete and Uncut     8.248568  "
      ]
     },
     "execution_count": 21,
     "metadata": {},
     "output_type": "execute_result"
    }
   ],
   "source": [
    "df_user[df_user['pred_rating'].notna()].sort_values('pred_rating', ascending=False).head(5)"
   ]
  },
  {
   "cell_type": "markdown",
   "metadata": {},
   "source": [
    "### Test set: predicted top rated books\n",
    "\n",
    "![](img/test_pred.jpg)"
   ]
  },
  {
   "cell_type": "code",
   "execution_count": 22,
   "metadata": {},
   "outputs": [
    {
     "data": {
      "text/html": [
       "<div>\n",
       "<style scoped>\n",
       "    .dataframe tbody tr th:only-of-type {\n",
       "        vertical-align: middle;\n",
       "    }\n",
       "\n",
       "    .dataframe tbody tr th {\n",
       "        vertical-align: top;\n",
       "    }\n",
       "\n",
       "    .dataframe thead th {\n",
       "        text-align: right;\n",
       "    }\n",
       "</style>\n",
       "<table border=\"1\" class=\"dataframe\">\n",
       "  <thead>\n",
       "    <tr style=\"text-align: right;\">\n",
       "      <th></th>\n",
       "      <th>user_id</th>\n",
       "      <th>isbn</th>\n",
       "      <th>book_rating</th>\n",
       "      <th>book_title</th>\n",
       "      <th>book_title_short</th>\n",
       "      <th>pred_rating</th>\n",
       "    </tr>\n",
       "  </thead>\n",
       "  <tbody>\n",
       "    <tr>\n",
       "      <th>124925</th>\n",
       "      <td>193458</td>\n",
       "      <td>0345361792</td>\n",
       "      <td>10</td>\n",
       "      <td>A Prayer for Owen Meany</td>\n",
       "      <td>A Prayer for Owen Meany</td>\n",
       "      <td>8.417446</td>\n",
       "    </tr>\n",
       "    <tr>\n",
       "      <th>124905</th>\n",
       "      <td>193458</td>\n",
       "      <td>0064471047</td>\n",
       "      <td>9</td>\n",
       "      <td>The Lion, the Witch, and the Wardrobe (The Chr...</td>\n",
       "      <td>The Lion, the Witch, and the Wardrobe (The</td>\n",
       "      <td>8.484346</td>\n",
       "    </tr>\n",
       "    <tr>\n",
       "      <th>124907</th>\n",
       "      <td>193458</td>\n",
       "      <td>0064471063</td>\n",
       "      <td>9</td>\n",
       "      <td>The Horse and His Boy</td>\n",
       "      <td>The Horse and His Boy</td>\n",
       "      <td>8.117325</td>\n",
       "    </tr>\n",
       "    <tr>\n",
       "      <th>124911</th>\n",
       "      <td>193458</td>\n",
       "      <td>0064471101</td>\n",
       "      <td>9</td>\n",
       "      <td>The Magician's Nephew (rack) (Narnia)</td>\n",
       "      <td>The Magician's Nephew (rack) (Narnia)</td>\n",
       "      <td>8.399889</td>\n",
       "    </tr>\n",
       "    <tr>\n",
       "      <th>124914</th>\n",
       "      <td>193458</td>\n",
       "      <td>0140620125</td>\n",
       "      <td>9</td>\n",
       "      <td>Wuthering Heights (Penguin Popular Classics)</td>\n",
       "      <td>Wuthering Heights (Penguin Popular Classics)</td>\n",
       "      <td>8.324708</td>\n",
       "    </tr>\n",
       "  </tbody>\n",
       "</table>\n",
       "</div>"
      ],
      "text/plain": [
       "        user_id        isbn  book_rating  \\\n",
       "124925   193458  0345361792           10   \n",
       "124905   193458  0064471047            9   \n",
       "124907   193458  0064471063            9   \n",
       "124911   193458  0064471101            9   \n",
       "124914   193458  0140620125            9   \n",
       "\n",
       "                                               book_title  \\\n",
       "124925                            A Prayer for Owen Meany   \n",
       "124905  The Lion, the Witch, and the Wardrobe (The Chr...   \n",
       "124907                              The Horse and His Boy   \n",
       "124911              The Magician's Nephew (rack) (Narnia)   \n",
       "124914       Wuthering Heights (Penguin Popular Classics)   \n",
       "\n",
       "                                    book_title_short  pred_rating  \n",
       "124925                       A Prayer for Owen Meany     8.417446  \n",
       "124905    The Lion, the Witch, and the Wardrobe (The     8.484346  \n",
       "124907                         The Horse and His Boy     8.117325  \n",
       "124911         The Magician's Nephew (rack) (Narnia)     8.399889  \n",
       "124914  Wuthering Heights (Penguin Popular Classics)     8.324708  "
      ]
     },
     "execution_count": 22,
     "metadata": {},
     "output_type": "execute_result"
    }
   ],
   "source": [
    "df_user[df_user['pred_rating'].notna()].sort_values('book_rating', ascending=False).head(5)"
   ]
  },
  {
   "cell_type": "markdown",
   "metadata": {},
   "source": [
    "### Test set: actual top rated books\n",
    "\n",
    "![](img/test_actual.jpg)"
   ]
  }
 ],
 "metadata": {
  "kernelspec": {
   "display_name": "tutorial",
   "language": "python",
   "name": "python3"
  },
  "language_info": {
   "codemirror_mode": {
    "name": "ipython",
    "version": 3
   },
   "file_extension": ".py",
   "mimetype": "text/x-python",
   "name": "python",
   "nbconvert_exporter": "python",
   "pygments_lexer": "ipython3",
   "version": "3.9.13"
  }
 },
 "nbformat": 4,
 "nbformat_minor": 2
}
